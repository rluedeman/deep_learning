{
 "cells": [
  {
   "cell_type": "code",
   "execution_count": 5,
   "metadata": {},
   "outputs": [],
   "source": [
    "import os\n",
    "\n",
    "from absl import app, flags\n",
    "\n",
    "import sys\n",
    "# TODO: Not sure why system PYTHONPATH doesn't work here.\n",
    "sys.path.append('C:\\\\Users\\\\rober\\\\Dropbox\\\\projects\\\\fun\\\\deep_learning')\n",
    "from gan_pipeline.utils import validate_images\n",
    "from gan_pipeline.similarity import SimilarImgGetter\n",
    "\n",
    "IMAGE_DIR = \"C:\\\\Users\\\\rober\\\\Dropbox\\\\projects\\\\fun\\\\2021_deeplearningrig\\\\datasets\\\\Food\"\n",
    "\n",
    "\n",
    "   \n"
   ]
  },
  {
   "cell_type": "code",
   "execution_count": 6,
   "metadata": {},
   "outputs": [
    {
     "name": "stderr",
     "output_type": "stream",
     "text": [
      "Confirming Img Shape of (1024, 1024): 100%|██████████| 5787/5787 [00:00<00:00, 8552.51it/s]\n"
     ]
    },
    {
     "name": "stdout",
     "output_type": "stream",
     "text": [
      "Successfully validated 5687 raw and 100 target images.\n"
     ]
    },
    {
     "name": "stderr",
     "output_type": "stream",
     "text": [
      "Computing Target Vectors: 100%|██████████| 100/100 [00:01<00:00, 55.11it/s]\n",
      "Computing Raw Vectors: 100%|██████████| 500/500 [00:08<00:00, 55.79it/s]\n",
      "Computing Similarity...: 100%|██████████| 500/500 [00:06<00:00, 79.19it/s]\n"
     ]
    }
   ],
   "source": [
    " # First, validate the images are in the right subdirectories and all of the same resolution\n",
    "raw_dir = os.path.join(IMAGE_DIR, \"Raw\")\n",
    "target_dir = os.path.join(IMAGE_DIR, \"Target\")\n",
    "validate_images(raw_dir, target_dir)\n",
    "\n",
    "# Compute the similarity between the raw and target images\n",
    "sim = SimilarImgGetter(target_img_dir=target_dir, raw_img_dir=raw_dir)\n"
   ]
  },
  {
   "cell_type": "code",
   "execution_count": 7,
   "metadata": {},
   "outputs": [
    {
     "data": {
      "image/png": "[encoded data removed]",
      "text/plain": [
       "<Figure size 432x288 with 1 Axes>"
      ]
     },
     "metadata": {
      "needs_background": "light"
     },
     "output_type": "display_data"
    }
   ],
   "source": [
    "\n",
    "sim.plot_similarity_disttribution()"
   ]
  },
  {
   "cell_type": "code",
   "execution_count": 10,
   "metadata": {},
   "outputs": [],
   "source": [
    "\n",
    "from matplotlib.pyplot import figure\n",
    "figure(figsize=(15, 15), dpi=120)\n",
    "sim.plot_images_in_similarity_range(.8, .9)"
   ]
  },
  {
   "cell_type": "code",
   "execution_count": null,
   "metadata": {},
   "outputs": [],
   "source": []
  }
 ],
 "metadata": {
  "kernelspec": {
   "display_name": "Python 3.9.12 ('learning_deep')",
   "language": "python",
   "name": "python3"
  },
  "language_info": {
   "codemirror_mode": {
    "name": "ipython",
    "version": 3
   },
   "file_extension": ".py",
   "mimetype": "text/x-python",
   "name": "python",
   "nbconvert_exporter": "python",
   "pygments_lexer": "ipython3",
   "version": "3.9.12"
  },
  "orig_nbformat": 4,
  "vscode": {
   "interpreter": {
    "hash": "616056eadfce70f14cad40ba02e2f63def5c0c71f7d7321cdc0bb217f9dd0d03"
   }
  }
 },
 "nbformat": 4,
 "nbformat_minor": 2
}
